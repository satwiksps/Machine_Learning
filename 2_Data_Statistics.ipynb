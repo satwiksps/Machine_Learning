{
  "nbformat": 4,
  "nbformat_minor": 0,
  "metadata": {
    "colab": {
      "provenance": [],
      "authorship_tag": "ABX9TyNPYp0k2R9/UzYPiJWguKAM",
      "include_colab_link": true
    },
    "kernelspec": {
      "name": "python3",
      "display_name": "Python 3"
    },
    "language_info": {
      "name": "python"
    }
  },
  "cells": [
    {
      "cell_type": "markdown",
      "metadata": {
        "id": "view-in-github",
        "colab_type": "text"
      },
      "source": [
        "<a href=\"https://colab.research.google.com/github/satwiksps/Machine_Learning/blob/main/2_Data_Statistics.ipynb\" target=\"_parent\"><img src=\"https://colab.research.google.com/assets/colab-badge.svg\" alt=\"Open In Colab\"/></a>"
      ]
    },
    {
      "cell_type": "code",
      "execution_count": 2,
      "metadata": {
        "id": "XLguls92m_yA",
        "outputId": "1a29e2ac-422b-463e-c331-6c9826cb7d8f",
        "colab": {
          "base_uri": "https://localhost:8080/"
        }
      },
      "outputs": [
        {
          "output_type": "stream",
          "name": "stdout",
          "text": [
            "     preg  plas  pres  skin  test  mass   pedi  age  class\n",
            "0       6   148    72    35     0  33.6  0.627   50      1\n",
            "1       1    85    66    29     0  26.6  0.351   31      0\n",
            "2       8   183    64     0     0  23.3  0.672   32      1\n",
            "3       1    89    66    23    94  28.1  0.167   21      0\n",
            "4       0   137    40    35   168  43.1  2.288   33      1\n",
            "..    ...   ...   ...   ...   ...   ...    ...  ...    ...\n",
            "763    10   101    76    48   180  32.9  0.171   63      0\n",
            "764     2   122    70    27     0  36.8  0.340   27      0\n",
            "765     5   121    72    23   112  26.2  0.245   30      0\n",
            "766     1   126    60     0     0  30.1  0.349   47      1\n",
            "767     1    93    70    31     0  30.4  0.315   23      0\n",
            "\n",
            "[768 rows x 9 columns]\n"
          ]
        }
      ],
      "source": [
        "from pandas import read_csv\n",
        "\n",
        "url = 'https://raw.githubusercontent.com/erojaso/MLMasteryEndToEnd/master/data/pima-indians-diabetes.data.csv'\n",
        "column_names = ['preg', 'plas', 'pres', 'skin', 'test', 'mass', 'pedi', 'age', 'class']\n",
        "data = read_csv(url, names=column_names) #Load CSV using Pandas\n",
        "print(data)"
      ]
    },
    {
      "cell_type": "code",
      "source": [
        "peek = data.head(10) #Peek into n number of rows\n",
        "print(peek)"
      ],
      "metadata": {
        "id": "rR9SedSWQN2D",
        "outputId": "6904f347-1ebd-49fc-f465-32cd973d3b76",
        "colab": {
          "base_uri": "https://localhost:8080/"
        }
      },
      "execution_count": 3,
      "outputs": [
        {
          "output_type": "stream",
          "name": "stdout",
          "text": [
            "   preg  plas  pres  skin  test  mass   pedi  age  class\n",
            "0     6   148    72    35     0  33.6  0.627   50      1\n",
            "1     1    85    66    29     0  26.6  0.351   31      0\n",
            "2     8   183    64     0     0  23.3  0.672   32      1\n",
            "3     1    89    66    23    94  28.1  0.167   21      0\n",
            "4     0   137    40    35   168  43.1  2.288   33      1\n",
            "5     5   116    74     0     0  25.6  0.201   30      0\n",
            "6     3    78    50    32    88  31.0  0.248   26      1\n",
            "7    10   115     0     0     0  35.3  0.134   29      0\n",
            "8     2   197    70    45   543  30.5  0.158   53      1\n",
            "9     8   125    96     0     0   0.0  0.232   54      1\n"
          ]
        }
      ]
    },
    {
      "cell_type": "code",
      "source": [
        "print(data.shape) #Number of rows and columns"
      ],
      "metadata": {
        "id": "Kx7DQCw-QpHh",
        "outputId": "7084a5ab-75ec-4a7c-c095-7d5c095fc315",
        "colab": {
          "base_uri": "https://localhost:8080/"
        }
      },
      "execution_count": 4,
      "outputs": [
        {
          "output_type": "stream",
          "name": "stdout",
          "text": [
            "(768, 9)\n"
          ]
        }
      ]
    },
    {
      "cell_type": "code",
      "source": [
        "types = data.dtypes #Data types of each column\n",
        "print(types)"
      ],
      "metadata": {
        "id": "Y-UafptlRBBB",
        "outputId": "a99860d9-960d-437c-9476-d7ef4681727d",
        "colab": {
          "base_uri": "https://localhost:8080/"
        }
      },
      "execution_count": 5,
      "outputs": [
        {
          "output_type": "stream",
          "name": "stdout",
          "text": [
            "preg       int64\n",
            "plas       int64\n",
            "pres       int64\n",
            "skin       int64\n",
            "test       int64\n",
            "mass     float64\n",
            "pedi     float64\n",
            "age        int64\n",
            "class      int64\n",
            "dtype: object\n"
          ]
        }
      ]
    },
    {
      "cell_type": "code",
      "source": [
        "from pandas import set_option\n",
        "set_option('display.width', 100)\n",
        "set_option('display.precision', 3) # decimals\n",
        "\n",
        "description = data.describe() #Summary statistics\n",
        "print(description)"
      ],
      "metadata": {
        "id": "6dvx9hwZRKfE",
        "outputId": "5c2b45a1-d1ab-47d3-97e7-fb0bfd1a4522",
        "colab": {
          "base_uri": "https://localhost:8080/"
        }
      },
      "execution_count": 6,
      "outputs": [
        {
          "output_type": "stream",
          "name": "stdout",
          "text": [
            "          preg     plas     pres     skin     test     mass     pedi      age    class\n",
            "count  768.000  768.000  768.000  768.000  768.000  768.000  768.000  768.000  768.000\n",
            "mean     3.845  120.895   69.105   20.536   79.799   31.993    0.472   33.241    0.349\n",
            "std      3.370   31.973   19.356   15.952  115.244    7.884    0.331   11.760    0.477\n",
            "min      0.000    0.000    0.000    0.000    0.000    0.000    0.078   21.000    0.000\n",
            "25%      1.000   99.000   62.000    0.000    0.000   27.300    0.244   24.000    0.000\n",
            "50%      3.000  117.000   72.000   23.000   30.500   32.000    0.372   29.000    0.000\n",
            "75%      6.000  140.250   80.000   32.000  127.250   36.600    0.626   41.000    1.000\n",
            "max     17.000  199.000  122.000   99.000  846.000   67.100    2.420   81.000    1.000\n"
          ]
        }
      ]
    },
    {
      "cell_type": "code",
      "source": [
        "class_counts = data.groupby('class').size()\n",
        "print(class_counts)\n",
        "print()\n",
        "#class_counts1 = data.groupby('preg').size()\n",
        "#print(class_counts1)"
      ],
      "metadata": {
        "id": "LuCE_K53RyZ1",
        "outputId": "b4dd5f8e-5775-4e6c-9af6-7fe36d66fd19",
        "colab": {
          "base_uri": "https://localhost:8080/"
        }
      },
      "execution_count": 7,
      "outputs": [
        {
          "output_type": "stream",
          "name": "stdout",
          "text": [
            "class\n",
            "0    500\n",
            "1    268\n",
            "dtype: int64\n",
            "\n"
          ]
        }
      ]
    },
    {
      "cell_type": "markdown",
      "source": [
        "**Pearson's Correlation Coeficient**\n",
        "\n",
        "Lies b/w -1 to 1.\n",
        "\n",
        "Poor performance if there are highly correlated attributes."
      ],
      "metadata": {
        "id": "C-PV3g4Avsp2"
      }
    },
    {
      "cell_type": "code",
      "source": [
        "set_option('display.width', 100)\n",
        "set_option('display.precision', 3)\n",
        "correlations = data.corr(method='pearson')\n",
        "print(correlations)"
      ],
      "metadata": {
        "id": "ZeOVLRZMS3FV",
        "outputId": "f72e845e-69f1-42b3-e150-f3a6e5322645",
        "colab": {
          "base_uri": "https://localhost:8080/"
        }
      },
      "execution_count": 9,
      "outputs": [
        {
          "output_type": "stream",
          "name": "stdout",
          "text": [
            "        preg   plas   pres   skin   test   mass   pedi    age  class\n",
            "preg   1.000  0.129  0.141 -0.082 -0.074  0.018 -0.034  0.544  0.222\n",
            "plas   0.129  1.000  0.153  0.057  0.331  0.221  0.137  0.264  0.467\n",
            "pres   0.141  0.153  1.000  0.207  0.089  0.282  0.041  0.240  0.065\n",
            "skin  -0.082  0.057  0.207  1.000  0.437  0.393  0.184 -0.114  0.075\n",
            "test  -0.074  0.331  0.089  0.437  1.000  0.198  0.185 -0.042  0.131\n",
            "mass   0.018  0.221  0.282  0.393  0.198  1.000  0.141  0.036  0.293\n",
            "pedi  -0.034  0.137  0.041  0.184  0.185  0.141  1.000  0.034  0.174\n",
            "age    0.544  0.264  0.240 -0.114 -0.042  0.036  0.034  1.000  0.238\n",
            "class  0.222  0.467  0.065  0.075  0.131  0.293  0.174  0.238  1.000\n"
          ]
        }
      ]
    },
    {
      "cell_type": "code",
      "source": [
        "import matplotlib.pyplot as plt\n",
        "plt.matshow(correlations) #Heatmap\n",
        "plt.show()"
      ],
      "metadata": {
        "id": "zMDBZtxowCrb",
        "outputId": "8ad49249-160b-40ab-9b4f-bd6b463c00c0",
        "colab": {
          "base_uri": "https://localhost:8080/",
          "height": 437
        }
      },
      "execution_count": 10,
      "outputs": [
        {
          "output_type": "display_data",
          "data": {
            "text/plain": [
              "<Figure size 480x480 with 1 Axes>"
            ],
            "image/png": "[encoded data removed]"
          },
          "metadata": {}
        }
      ]
    },
    {
      "cell_type": "code",
      "source": [
        "skew = data.skew()\n",
        "print(skew)"
      ],
      "metadata": {
        "id": "fRECQioXwPF5",
        "outputId": "c37fb3af-bef3-45fb-9033-2969ea30bed8",
        "colab": {
          "base_uri": "https://localhost:8080/"
        }
      },
      "execution_count": 11,
      "outputs": [
        {
          "output_type": "stream",
          "name": "stdout",
          "text": [
            "preg     0.902\n",
            "plas     0.174\n",
            "pres    -1.844\n",
            "skin     0.109\n",
            "test     2.272\n",
            "mass    -0.429\n",
            "pedi     1.920\n",
            "age      1.130\n",
            "class    0.635\n",
            "dtype: float64\n"
          ]
        }
      ]
    }
  ]
}