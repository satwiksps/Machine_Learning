{
  "nbformat": 4,
  "nbformat_minor": 0,
  "metadata": {
    "colab": {
      "provenance": [],
      "authorship_tag": "ABX9TyPYBLZcxRpHGsYUH9SZ45yE",
      "include_colab_link": true
    },
    "kernelspec": {
      "name": "python3",
      "display_name": "Python 3"
    },
    "language_info": {
      "name": "python"
    }
  },
  "cells": [
    {
      "cell_type": "markdown",
      "metadata": {
        "id": "view-in-github",
        "colab_type": "text"
      },
      "source": [
        "<a href=\"https://colab.research.google.com/github/satwiksps/Machine_Learning/blob/main/9_Regression_Algorithms.ipynb\" target=\"_parent\"><img src=\"https://colab.research.google.com/assets/colab-badge.svg\" alt=\"Open In Colab\"/></a>"
      ]
    },
    {
      "cell_type": "markdown",
      "source": [
        "#Regression Algorithms\n",
        "Finding the best performing Algorithm"
      ],
      "metadata": {
        "id": "dJGYlynHLd1h"
      }
    },
    {
      "cell_type": "markdown",
      "source": [
        "###**Linear Algorithms**\n",
        "\n",
        "Linear Regression.\n",
        "\n",
        "Ridge Regression.\n",
        "\n",
        "LASSO Linear Regression.\n",
        "\n",
        "Elastic Net Regression.\n"
      ],
      "metadata": {
        "id": "XGSxyRpQLptr"
      }
    },
    {
      "cell_type": "markdown",
      "source": [
        "###**Non-Linear Algorithms**\n",
        "\n",
        "k-Nearest Neighbors.\n",
        "\n",
        "Classification and Regression Trees.\n",
        "\n",
        "Support Vector Machines.\n",
        "\n",
        "\n"
      ],
      "metadata": {
        "id": "87g_9bH2L5oy"
      }
    },
    {
      "cell_type": "code",
      "source": [
        "#Pima-Indian-Diabetes Dataset\n",
        "from pandas import read_csv\n",
        "url = 'https://raw.githubusercontent.com/erojaso/MLMasteryEndToEnd/master/data/pima-indians-diabetes.data.csv' #Load CSV using Pandas\n",
        "column_names = ['preg', 'plas', 'pres', 'skin', 'test', 'mass', 'pedi', 'age', 'class'] #Define column names\n",
        "data = read_csv(url, names=column_names) #Load CSV using Pandas\n",
        "array = data.values #Convert to NumPy array\n",
        "X1 = array[:,0:8] #Split into input column\n",
        "Y1 = array[:,8] #Split into output column\n",
        "\n",
        "print(\"Shape of X1:\", X1.shape)\n",
        "print(\"Shape of Y1:\", Y1.shape)"
      ],
      "metadata": {
        "colab": {
          "base_uri": "https://localhost:8080/"
        },
        "id": "nraBTZYuMK6j",
        "outputId": "2035d686-250f-49c2-9055-b5435193fd63"
      },
      "execution_count": 1,
      "outputs": [
        {
          "output_type": "stream",
          "name": "stdout",
          "text": [
            "Shape of X1: (768, 8)\n",
            "Shape of Y1: (768,)\n"
          ]
        }
      ]
    },
    {
      "cell_type": "code",
      "source": [
        "#Boston-House-Price Dataset\n",
        "from pandas import read_csv\n",
        "url2 = 'https://raw.githubusercontent.com/erojaso/MLMasteryEndToEnd/master/data/housing.NAN.adjust.csv' #Load CSV using Pandas\n",
        "names = ['CRIM', 'ZN', 'INDUS', 'CHAS', 'NOX', 'RM', 'AGE', 'DIS', 'RAD', 'TAX', 'PTRATIO', 'B', 'LSTAT', 'MEDV'] #Define column names\n",
        "dataframe = read_csv(url2, names=names) #Load CSV using Pandas\n",
        "array = dataframe.values #Convert to NumPy array\n",
        "X2 = array[:,0:13] #Attributes (Split into input rows)\n",
        "Y2 = array[:,13] #Labels (Split into output column)\n",
        "\n",
        "print(\"Shape of X2:\", X2.shape)\n",
        "print(\"Shape of Y2:\", Y2.shape)"
      ],
      "metadata": {
        "colab": {
          "base_uri": "https://localhost:8080/"
        },
        "id": "Pv42a_XOMr8e",
        "outputId": "2613d44d-6f97-4b3e-ea9c-f0b834b8c591"
      },
      "execution_count": 2,
      "outputs": [
        {
          "output_type": "stream",
          "name": "stdout",
          "text": [
            "Shape of X2: (506, 13)\n",
            "Shape of Y2: (506,)\n"
          ]
        }
      ]
    },
    {
      "cell_type": "markdown",
      "source": [
        "**Linear Regression**"
      ],
      "metadata": {
        "id": "Smw57c81NBw4"
      }
    },
    {
      "cell_type": "code",
      "source": [
        "from sklearn.model_selection import KFold\n",
        "from sklearn.model_selection import cross_val_score\n",
        "from sklearn.linear_model import LinearRegression\n",
        "kfold = KFold(n_splits=10)\n",
        "model = LinearRegression()\n",
        "scoring = 'neg_mean_squared_error'\n",
        "results = cross_val_score(model, X2, Y2, cv=kfold, scoring=scoring)\n",
        "print(results.mean())"
      ],
      "metadata": {
        "colab": {
          "base_uri": "https://localhost:8080/"
        },
        "id": "5kqukI_JMzO3",
        "outputId": "6ac8cae6-2744-4f83-fbab-47ccd10bfa5b"
      },
      "execution_count": 4,
      "outputs": [
        {
          "output_type": "stream",
          "name": "stdout",
          "text": [
            "-35.099245282824036\n"
          ]
        }
      ]
    },
    {
      "cell_type": "markdown",
      "source": [
        "**Ridge Regression**\n"
      ],
      "metadata": {
        "id": "2BNgzMZhNJDp"
      }
    },
    {
      "cell_type": "code",
      "source": [
        "from sklearn.model_selection import KFold\n",
        "from sklearn.model_selection import cross_val_score\n",
        "from sklearn.linear_model import Ridge\n",
        "kfold = KFold(n_splits=10)\n",
        "model = Ridge()\n",
        "scoring = 'neg_mean_squared_error'\n",
        "results = cross_val_score(model, X2, Y2, cv=kfold, scoring=scoring)\n",
        "print(results.mean())"
      ],
      "metadata": {
        "colab": {
          "base_uri": "https://localhost:8080/"
        },
        "id": "5ufyYOHINNTr",
        "outputId": "1d868b76-5263-4b45-95ef-9025e3e3d608"
      },
      "execution_count": 3,
      "outputs": [
        {
          "output_type": "stream",
          "name": "stdout",
          "text": [
            "-34.36292591393429\n"
          ]
        }
      ]
    },
    {
      "cell_type": "markdown",
      "source": [
        "**LASSO Regression**"
      ],
      "metadata": {
        "id": "6aVt7I7BNcDO"
      }
    },
    {
      "cell_type": "code",
      "source": [
        "from sklearn.model_selection import KFold\n",
        "from sklearn.model_selection import cross_val_score\n",
        "from sklearn.linear_model import Lasso\n",
        "kfold = KFold(n_splits=10)\n",
        "model = Lasso()\n",
        "scoring = 'neg_mean_squared_error'\n",
        "results = cross_val_score(model, X2, Y2, cv=kfold, scoring=scoring)\n",
        "print(results.mean())"
      ],
      "metadata": {
        "colab": {
          "base_uri": "https://localhost:8080/"
        },
        "id": "PZUTS4ClNcMm",
        "outputId": "9f991d33-9d41-40c5-a16a-1ced0a871000"
      },
      "execution_count": 7,
      "outputs": [
        {
          "output_type": "stream",
          "name": "stdout",
          "text": [
            "-35.47377764303683\n"
          ]
        }
      ]
    },
    {
      "cell_type": "markdown",
      "source": [
        "**ElasticNet Regression**"
      ],
      "metadata": {
        "id": "Apn2bHrCOQtH"
      }
    },
    {
      "cell_type": "code",
      "source": [
        "from sklearn.model_selection import KFold\n",
        "from sklearn.model_selection import cross_val_score\n",
        "from sklearn.linear_model import ElasticNet\n",
        "kfold = KFold(n_splits=10)\n",
        "model = ElasticNet()\n",
        "scoring = 'neg_mean_squared_error'\n",
        "results = cross_val_score(model, X2, Y2, cv=kfold, scoring=scoring)\n",
        "print(results.mean())"
      ],
      "metadata": {
        "colab": {
          "base_uri": "https://localhost:8080/"
        },
        "id": "N7xkGZC2OSvF",
        "outputId": "ac80ee13-975f-4b0e-ab60-1d16f9db16a2"
      },
      "execution_count": 9,
      "outputs": [
        {
          "output_type": "stream",
          "name": "stdout",
          "text": [
            "-32.58383450116826\n"
          ]
        }
      ]
    },
    {
      "cell_type": "markdown",
      "source": [
        "**K-Nearest Neighbors**"
      ],
      "metadata": {
        "id": "5e1DR-ihOc4F"
      }
    },
    {
      "cell_type": "code",
      "source": [
        "from sklearn.model_selection import KFold\n",
        "from sklearn.model_selection import cross_val_score\n",
        "from sklearn.neighbors import KNeighborsRegressor\n",
        "kfold = KFold(n_splits=10)\n",
        "model = KNeighborsRegressor()\n",
        "scoring = 'neg_mean_squared_error'\n",
        "results = cross_val_score(model, X2, Y2, cv=kfold, scoring=scoring)\n",
        "print(results.mean())"
      ],
      "metadata": {
        "colab": {
          "base_uri": "https://localhost:8080/"
        },
        "id": "62978MoXOjJp",
        "outputId": "3b67e4d3-bded-4ace-d9a1-f6a1e7b40c46"
      },
      "execution_count": 11,
      "outputs": [
        {
          "output_type": "stream",
          "name": "stdout",
          "text": [
            "-97.69606225882353\n"
          ]
        }
      ]
    },
    {
      "cell_type": "markdown",
      "source": [
        "**Classification and Regression Trees**"
      ],
      "metadata": {
        "id": "ztEwUOwfOu9c"
      }
    },
    {
      "cell_type": "code",
      "source": [
        "from sklearn.model_selection import KFold\n",
        "from sklearn.model_selection import cross_val_score\n",
        "from sklearn.tree import DecisionTreeRegressor\n",
        "kfold = KFold(n_splits=10)\n",
        "model = DecisionTreeRegressor()\n",
        "scoring = 'neg_mean_squared_error'\n",
        "results = cross_val_score(model, X2, Y2, cv=kfold, scoring=scoring)\n",
        "print(results.mean())"
      ],
      "metadata": {
        "colab": {
          "base_uri": "https://localhost:8080/"
        },
        "id": "muIgrEVPOvHA",
        "outputId": "02face5f-7c65-4fe7-90dd-9e4405610fa7"
      },
      "execution_count": 13,
      "outputs": [
        {
          "output_type": "stream",
          "name": "stdout",
          "text": [
            "-32.6332568627451\n"
          ]
        }
      ]
    },
    {
      "cell_type": "markdown",
      "source": [
        "**Support Vector Machines**"
      ],
      "metadata": {
        "id": "ygdFa0sSOvfU"
      }
    },
    {
      "cell_type": "code",
      "source": [
        "from sklearn.model_selection import KFold\n",
        "from sklearn.model_selection import cross_val_score\n",
        "from sklearn.svm import SVR\n",
        "kfold = KFold(n_splits=10)\n",
        "model = SVR()\n",
        "scoring = 'neg_mean_squared_error'\n",
        "results = cross_val_score(model, X2, Y2, cv=kfold, scoring=scoring)\n",
        "print(results.mean())"
      ],
      "metadata": {
        "colab": {
          "base_uri": "https://localhost:8080/"
        },
        "id": "nr8-suIWOvoN",
        "outputId": "bd09caf7-9316-4922-ebe0-642fcb2065a0"
      },
      "execution_count": 14,
      "outputs": [
        {
          "output_type": "stream",
          "name": "stdout",
          "text": [
            "-72.26868854831913\n"
          ]
        }
      ]
    }
  ]
}