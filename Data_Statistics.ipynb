{
  "nbformat": 4,
  "nbformat_minor": 0,
  "metadata": {
    "colab": {
      "provenance": [],
      "authorship_tag": "ABX9TyNACotiDzyLV/lyDnk7Uf3m",
      "include_colab_link": true
    },
    "kernelspec": {
      "name": "python3",
      "display_name": "Python 3"
    },
    "language_info": {
      "name": "python"
    }
  },
  "cells": [
    {
      "cell_type": "markdown",
      "metadata": {
        "id": "view-in-github",
        "colab_type": "text"
      },
      "source": [
        "<a href=\"https://colab.research.google.com/github/satwiksps/Machine_Learning/blob/main/Data_Statistics.ipynb\" target=\"_parent\"><img src=\"https://colab.research.google.com/assets/colab-badge.svg\" alt=\"Open In Colab\"/></a>"
      ]
    },
    {
      "cell_type": "code",
      "execution_count": 4,
      "metadata": {
        "id": "XLguls92m_yA",
        "outputId": "128b556a-ce31-40b4-a5ff-3565613671b1",
        "colab": {
          "base_uri": "https://localhost:8080/"
        }
      },
      "outputs": [
        {
          "output_type": "stream",
          "name": "stdout",
          "text": [
            "     preg  plas  pres  skin  test  mass   pedi  age  class\n",
            "0       6   148    72    35     0  33.6  0.627   50      1\n",
            "1       1    85    66    29     0  26.6  0.351   31      0\n",
            "2       8   183    64     0     0  23.3  0.672   32      1\n",
            "3       1    89    66    23    94  28.1  0.167   21      0\n",
            "4       0   137    40    35   168  43.1  2.288   33      1\n",
            "..    ...   ...   ...   ...   ...   ...    ...  ...    ...\n",
            "763    10   101    76    48   180  32.9  0.171   63      0\n",
            "764     2   122    70    27     0  36.8  0.340   27      0\n",
            "765     5   121    72    23   112  26.2  0.245   30      0\n",
            "766     1   126    60     0     0  30.1  0.349   47      1\n",
            "767     1    93    70    31     0  30.4  0.315   23      0\n",
            "\n",
            "[768 rows x 9 columns]\n"
          ]
        }
      ],
      "source": [
        "from pandas import read_csv\n",
        "\n",
        "url = 'https://raw.githubusercontent.com/erojaso/MLMasteryEndToEnd/master/data/pima-indians-diabetes.data.csv'\n",
        "column_names = ['preg', 'plas', 'pres', 'skin', 'test', 'mass', 'pedi', 'age', 'class']\n",
        "data = read_csv(url, names=column_names) #Load CSV using Pandas\n",
        "print(data)"
      ]
    },
    {
      "cell_type": "code",
      "source": [
        "peek = data.head(10) #Peek into n number of rows\n",
        "print(peek)"
      ],
      "metadata": {
        "id": "rR9SedSWQN2D",
        "outputId": "86d1eba9-d477-404b-e6f7-c3caacba408a",
        "colab": {
          "base_uri": "https://localhost:8080/"
        }
      },
      "execution_count": 6,
      "outputs": [
        {
          "output_type": "stream",
          "name": "stdout",
          "text": [
            "   preg  plas  pres  skin  test  mass   pedi  age  class\n",
            "0     6   148    72    35     0  33.6  0.627   50      1\n",
            "1     1    85    66    29     0  26.6  0.351   31      0\n",
            "2     8   183    64     0     0  23.3  0.672   32      1\n",
            "3     1    89    66    23    94  28.1  0.167   21      0\n",
            "4     0   137    40    35   168  43.1  2.288   33      1\n",
            "5     5   116    74     0     0  25.6  0.201   30      0\n",
            "6     3    78    50    32    88  31.0  0.248   26      1\n",
            "7    10   115     0     0     0  35.3  0.134   29      0\n",
            "8     2   197    70    45   543  30.5  0.158   53      1\n",
            "9     8   125    96     0     0   0.0  0.232   54      1\n"
          ]
        }
      ]
    },
    {
      "cell_type": "code",
      "source": [
        "print(data.shape) #Number of rows and columns"
      ],
      "metadata": {
        "id": "Kx7DQCw-QpHh",
        "outputId": "8630253a-4496-4d82-9e79-ee3b974547cf",
        "colab": {
          "base_uri": "https://localhost:8080/"
        }
      },
      "execution_count": 5,
      "outputs": [
        {
          "output_type": "stream",
          "name": "stdout",
          "text": [
            "(768, 9)\n"
          ]
        }
      ]
    },
    {
      "cell_type": "code",
      "source": [
        "types = data.dtypes #Data types of each column\n",
        "print(types)"
      ],
      "metadata": {
        "id": "Y-UafptlRBBB",
        "outputId": "fe552e96-eef0-4d96-ba62-d8042e3d5bb4",
        "colab": {
          "base_uri": "https://localhost:8080/"
        }
      },
      "execution_count": 7,
      "outputs": [
        {
          "output_type": "stream",
          "name": "stdout",
          "text": [
            "preg       int64\n",
            "plas       int64\n",
            "pres       int64\n",
            "skin       int64\n",
            "test       int64\n",
            "mass     float64\n",
            "pedi     float64\n",
            "age        int64\n",
            "class      int64\n",
            "dtype: object\n"
          ]
        }
      ]
    },
    {
      "cell_type": "code",
      "source": [
        "from pandas import set_option\n",
        "set_option('display.width', 100)\n",
        "set_option('display.precision', 3) # decimals\n",
        "\n",
        "description = data.describe() #Summary statistics\n",
        "print(description)"
      ],
      "metadata": {
        "id": "6dvx9hwZRKfE",
        "outputId": "572672b5-2007-4974-c010-cb8b86793db7",
        "colab": {
          "base_uri": "https://localhost:8080/"
        }
      },
      "execution_count": 10,
      "outputs": [
        {
          "output_type": "stream",
          "name": "stdout",
          "text": [
            "          preg     plas     pres     skin     test     mass     pedi      age    class\n",
            "count  768.000  768.000  768.000  768.000  768.000  768.000  768.000  768.000  768.000\n",
            "mean     3.845  120.895   69.105   20.536   79.799   31.993    0.472   33.241    0.349\n",
            "std      3.370   31.973   19.356   15.952  115.244    7.884    0.331   11.760    0.477\n",
            "min      0.000    0.000    0.000    0.000    0.000    0.000    0.078   21.000    0.000\n",
            "25%      1.000   99.000   62.000    0.000    0.000   27.300    0.244   24.000    0.000\n",
            "50%      3.000  117.000   72.000   23.000   30.500   32.000    0.372   29.000    0.000\n",
            "75%      6.000  140.250   80.000   32.000  127.250   36.600    0.626   41.000    1.000\n",
            "max     17.000  199.000  122.000   99.000  846.000   67.100    2.420   81.000    1.000\n"
          ]
        }
      ]
    },
    {
      "cell_type": "code",
      "source": [
        "class_counts = data.groupby('class').size()\n",
        "print(class_counts)\n",
        "print()\n",
        "class_counts1 = data.groupby('preg').size()\n",
        "print(class_counts1)"
      ],
      "metadata": {
        "id": "LuCE_K53RyZ1",
        "outputId": "b55835b3-c10d-4ca6-8f66-38d3cb080993",
        "colab": {
          "base_uri": "https://localhost:8080/"
        }
      },
      "execution_count": 14,
      "outputs": [
        {
          "output_type": "stream",
          "name": "stdout",
          "text": [
            "class\n",
            "0    500\n",
            "1    268\n",
            "dtype: int64\n",
            "\n",
            "preg\n",
            "0     111\n",
            "1     135\n",
            "2     103\n",
            "3      75\n",
            "4      68\n",
            "5      57\n",
            "6      50\n",
            "7      45\n",
            "8      38\n",
            "9      28\n",
            "10     24\n",
            "11     11\n",
            "12      9\n",
            "13     10\n",
            "14      2\n",
            "15      1\n",
            "17      1\n",
            "dtype: int64\n"
          ]
        }
      ]
    },
    {
      "cell_type": "code",
      "source": [],
      "metadata": {
        "id": "ZeOVLRZMS3FV"
      },
      "execution_count": null,
      "outputs": []
    }
  ]
}