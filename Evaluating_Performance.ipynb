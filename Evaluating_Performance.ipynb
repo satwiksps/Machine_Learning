{
  "nbformat": 4,
  "nbformat_minor": 0,
  "metadata": {
    "colab": {
      "provenance": [],
      "authorship_tag": "ABX9TyMSMWfj9r609tqSqJxtGUXF",
      "include_colab_link": true
    },
    "kernelspec": {
      "name": "python3",
      "display_name": "Python 3"
    },
    "language_info": {
      "name": "python"
    }
  },
  "cells": [
    {
      "cell_type": "markdown",
      "metadata": {
        "id": "view-in-github",
        "colab_type": "text"
      },
      "source": [
        "<a href=\"https://colab.research.google.com/github/satwiksps/Machine_Learning/blob/main/Evaluating_Performance.ipynb\" target=\"_parent\"><img src=\"https://colab.research.google.com/assets/colab-badge.svg\" alt=\"Open In Colab\"/></a>"
      ]
    },
    {
      "cell_type": "code",
      "source": [
        "from pandas import read_csv\n",
        "url = 'https://raw.githubusercontent.com/erojaso/MLMasteryEndToEnd/master/data/pima-indians-diabetes.data.csv' #Load CSV using Pandas\n",
        "column_names = ['preg', 'plas', 'pres', 'skin', 'test', 'mass', 'pedi', 'age', 'class'] #Define column names\n",
        "data = read_csv(url, names=column_names) #Load CSV using Pandas\n",
        "array = data.values #Convert to NumPy array\n",
        "Input = array[:,0:8] #Split into column\n",
        "Output = array[:,8] #Split into output column"
      ],
      "metadata": {
        "id": "56qm1kmbyPSw"
      },
      "execution_count": 1,
      "outputs": []
    },
    {
      "cell_type": "markdown",
      "source": [
        "# Split into Train and Test Sets"
      ],
      "metadata": {
        "id": "R-SLaETR1PY6"
      }
    },
    {
      "cell_type": "code",
      "execution_count": 2,
      "metadata": {
        "colab": {
          "base_uri": "https://localhost:8080/"
        },
        "id": "DdEl_zeswvbh",
        "outputId": "abe8f5f1-bb49-4dce-a9dc-ff31f486565f"
      },
      "outputs": [
        {
          "output_type": "stream",
          "name": "stdout",
          "text": [
            "Accuracy: 75.591%\n"
          ]
        }
      ],
      "source": [
        "from sklearn.model_selection import train_test_split\n",
        "from sklearn.linear_model import LogisticRegression\n",
        "seed = 7 # random seed\n",
        "test_size = 0.33\n",
        "Input_train, Input_test, Output_train, Output_test = train_test_split(Input, Output, test_size=test_size, random_state=seed) #\n",
        "# Model train\n",
        "model = LogisticRegression(solver='liblinear')\n",
        "model.fit(Input_train, Output_train)\n",
        "# Model test\n",
        "result = model.score(Input_test, Output_test)\n",
        "print(\"Accuracy: %.3f%%\" % (result*100.0))"
      ]
    },
    {
      "cell_type": "markdown",
      "source": [
        "# K-Fold Cross Validation"
      ],
      "metadata": {
        "id": "QJKynnC61PbM"
      }
    },
    {
      "cell_type": "code",
      "source": [
        "from sklearn.model_selection import KFold\n",
        "from sklearn.model_selection import cross_val_score\n",
        "from sklearn.linear_model import LogisticRegression\n",
        "num_folds = 10\n",
        "kfold = KFold(n_splits=num_folds)\n",
        "model = LogisticRegression(solver='liblinear')\n",
        "results = cross_val_score(model, Input,Output, cv=kfold)\n",
        "print(\"Accuracy: %.3f%%, Standard Deviation: (%.3f%%)\" % (results.mean()*100.0, results.std()*100.0))"
      ],
      "metadata": {
        "colab": {
          "base_uri": "https://localhost:8080/"
        },
        "id": "RRWKrZmRzH9V",
        "outputId": "a4229f2d-c400-4ced-f0f0-4712d1247855"
      },
      "execution_count": 3,
      "outputs": [
        {
          "output_type": "stream",
          "name": "stdout",
          "text": [
            "Accuracy: 76.951%, Standard Deviation: (4.841%)\n"
          ]
        }
      ]
    },
    {
      "cell_type": "markdown",
      "source": [
        "#Leave One Out Cross Validation"
      ],
      "metadata": {
        "id": "O-6fX9Ky1fW1"
      }
    },
    {
      "cell_type": "code",
      "source": [
        "from sklearn.model_selection import LeaveOneOut\n",
        "from sklearn.model_selection import cross_val_score\n",
        "from sklearn.linear_model import LogisticRegression\n",
        "num_folds = 10\n",
        "loocv = LeaveOneOut()\n",
        "model = LogisticRegression(solver='liblinear')\n",
        "results = cross_val_score(model, Input,Output, cv=loocv)\n",
        "print(\"Accuracy: %.3f%%, Standard Deviation: (%.3f%%)\" % (results.mean()*100.0, results.std()*100.0))"
      ],
      "metadata": {
        "id": "tQeHB8e71lPJ",
        "outputId": "ca6cbea0-1035-477a-cf51-79972cc28dc6",
        "colab": {
          "base_uri": "https://localhost:8080/"
        }
      },
      "execution_count": 5,
      "outputs": [
        {
          "output_type": "stream",
          "name": "stdout",
          "text": [
            "Accuracy: 76.823%, Standard Deviation: (42.196%)\n"
          ]
        }
      ]
    },
    {
      "cell_type": "markdown",
      "source": [
        "#Repeated Random Test-Train Splits"
      ],
      "metadata": {
        "id": "rtL3946J-UU1"
      }
    },
    {
      "cell_type": "code",
      "source": [
        "from sklearn.model_selection import ShuffleSplit\n",
        "from sklearn.model_selection import cross_val_score\n",
        "from sklearn.linear_model import LogisticRegression\n",
        "seed = 7 # random seed\n",
        "n_splits = 10\n",
        "test_size = 0.33\n",
        "kfold = ShuffleSplit(n_splits=n_splits, test_size=test_size, random_state=seed)\n",
        "model = LogisticRegression(solver='liblinear')\n",
        "results = cross_val_score(model, Input,Output, cv=kfold)\n",
        "print(\"Accuracy: %.3f%%, Standard Deviation: (%.3f%%)\" % (results.mean()*100.0, results.std()*100.0))"
      ],
      "metadata": {
        "id": "iWMXVVnj-UdU",
        "outputId": "039d8c84-210f-40ec-f9f9-668577c757b5",
        "colab": {
          "base_uri": "https://localhost:8080/"
        }
      },
      "execution_count": 6,
      "outputs": [
        {
          "output_type": "stream",
          "name": "stdout",
          "text": [
            "Accuracy: 76.535%, Standard Deviation: (1.691%)\n"
          ]
        }
      ]
    }
  ]
}