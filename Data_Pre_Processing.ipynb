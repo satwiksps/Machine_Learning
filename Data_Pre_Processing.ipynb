{
  "nbformat": 4,
  "nbformat_minor": 0,
  "metadata": {
    "colab": {
      "provenance": [],
      "authorship_tag": "ABX9TyMDPdGjVMfZpYERonflEYie",
      "include_colab_link": true
    },
    "kernelspec": {
      "name": "python3",
      "display_name": "Python 3"
    },
    "language_info": {
      "name": "python"
    }
  },
  "cells": [
    {
      "cell_type": "markdown",
      "metadata": {
        "id": "view-in-github",
        "colab_type": "text"
      },
      "source": [
        "<a href=\"https://colab.research.google.com/github/satwiksps/Machine_Learning/blob/main/Data_Pre_Processing.ipynb\" target=\"_parent\"><img src=\"https://colab.research.google.com/assets/colab-badge.svg\" alt=\"Open In Colab\"/></a>"
      ]
    },
    {
      "cell_type": "code",
      "source": [
        "from pandas import read_csv\n",
        "url = 'https://raw.githubusercontent.com/erojaso/MLMasteryEndToEnd/master/data/pima-indians-diabetes.data.csv' #Load CSV using Pandas\n",
        "column_names = ['preg', 'plas', 'pres', 'skin', 'test', 'mass', 'pedi', 'age', 'class'] #Define column names\n",
        "data = read_csv(url, names=column_names) #Load CSV using Pandas\n",
        "array = data.values #Convert to NumPy array\n",
        "Input = array[:,0:8] #Split into column\n",
        "Output = array[:,8] #Split into output column"
      ],
      "metadata": {
        "id": "oYDlVOjBuXfW"
      },
      "execution_count": 11,
      "outputs": []
    },
    {
      "cell_type": "code",
      "source": [
        "from numpy import set_printoptions"
      ],
      "metadata": {
        "id": "EqRDa3zVuqIN"
      },
      "execution_count": 12,
      "outputs": []
    },
    {
      "cell_type": "markdown",
      "source": [
        "#**Rescaling Data using MinMaxScalar**\n",
        "\n",
        "Rescaling data into range (a,b)\n",
        "\n",
        "![Screenshot (2).png](data:image/png;base64,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)"
      ],
      "metadata": {
        "id": "2QgT1t7Dsn-Y"
      }
    },
    {
      "cell_type": "code",
      "execution_count": 13,
      "metadata": {
        "id": "PjIWHSE07BjQ",
        "colab": {
          "base_uri": "https://localhost:8080/"
        },
        "outputId": "f11ef202-cb3a-4f4a-afe0-80a989cb0fbd"
      },
      "outputs": [
        {
          "output_type": "stream",
          "name": "stdout",
          "text": [
            "[[0.353 0.744 0.59  0.354 0.    0.501 0.234 0.483]\n",
            " [0.059 0.427 0.541 0.293 0.    0.396 0.117 0.167]\n",
            " [0.471 0.92  0.525 0.    0.    0.347 0.254 0.183]\n",
            " [0.059 0.447 0.541 0.232 0.111 0.419 0.038 0.   ]\n",
            " [0.    0.688 0.328 0.354 0.199 0.642 0.944 0.2  ]]\n"
          ]
        }
      ],
      "source": [
        "from sklearn.preprocessing import MinMaxScaler\n",
        "scaler = MinMaxScaler(feature_range=(0, 1)) #Define MinMaxScaler\n",
        "rescaledX = scaler.fit_transform(Input) #Fit and transform\n",
        "# summarize transformed data\n",
        "set_printoptions(precision=3)\n",
        "print(rescaledX[0:5,:]) #Print first 5 rows"
      ]
    },
    {
      "cell_type": "markdown",
      "source": [
        "#**Standardization**"
      ],
      "metadata": {
        "id": "9ER5MKNPtxbS"
      }
    },
    {
      "cell_type": "code",
      "source": [
        "from sklearn.preprocessing import StandardScaler\n",
        "scaler = StandardScaler().fit(X)\n",
        "rescaledX = scaler.transform(X)\n",
        "# summarize transformed data\n",
        "set_printoptions(precision=3)\n",
        "print(rescaledX[0:5,:])"
      ],
      "metadata": {
        "colab": {
          "base_uri": "https://localhost:8080/"
        },
        "id": "opDXjK0VsnjK",
        "outputId": "2d4c70ca-7444-4b3d-9e42-3acb3bcb9f84"
      },
      "execution_count": 14,
      "outputs": [
        {
          "output_type": "stream",
          "name": "stdout",
          "text": [
            "[[ 0.64   0.848  0.15   0.907 -0.693  0.204  0.468  1.426]\n",
            " [-0.845 -1.123 -0.161  0.531 -0.693 -0.684 -0.365 -0.191]\n",
            " [ 1.234  1.944 -0.264 -1.288 -0.693 -1.103  0.604 -0.106]\n",
            " [-0.845 -0.998 -0.161  0.155  0.123 -0.494 -0.921 -1.042]\n",
            " [-1.142  0.504 -1.505  0.907  0.766  1.41   5.485 -0.02 ]]\n"
          ]
        }
      ]
    },
    {
      "cell_type": "markdown",
      "source": [
        "#**Normalisation**"
      ],
      "metadata": {
        "id": "H2i7mZUwuyA4"
      }
    },
    {
      "cell_type": "code",
      "source": [
        "# Normalize data (length of 1)\n",
        "from sklearn.preprocessing import Normalizer\n",
        "scaler = Normalizer().fit(Input)\n",
        "normalizedInput = scaler.transform(Input)\n",
        "# summarize transformed data\n",
        "set_printoptions(precision=3)\n",
        "print(normalizedInput[0:5,:])"
      ],
      "metadata": {
        "colab": {
          "base_uri": "https://localhost:8080/"
        },
        "id": "ddsmXbTmt1Ot",
        "outputId": "a7c4ea1e-a906-4cd5-86fb-6713af8cf82f"
      },
      "execution_count": 15,
      "outputs": [
        {
          "output_type": "stream",
          "name": "stdout",
          "text": [
            "[[0.034 0.828 0.403 0.196 0.    0.188 0.004 0.28 ]\n",
            " [0.008 0.716 0.556 0.244 0.    0.224 0.003 0.261]\n",
            " [0.04  0.924 0.323 0.    0.    0.118 0.003 0.162]\n",
            " [0.007 0.588 0.436 0.152 0.622 0.186 0.001 0.139]\n",
            " [0.    0.596 0.174 0.152 0.731 0.188 0.01  0.144]]\n"
          ]
        }
      ]
    },
    {
      "cell_type": "markdown",
      "source": [
        "#**Binarisation**\n",
        "\n",
        "All values above the threshold are marked 1 and all equal to or below are marked as 0."
      ],
      "metadata": {
        "id": "3v3pc30cu_P9"
      }
    },
    {
      "cell_type": "code",
      "source": [
        "from sklearn.preprocessing import Binarizer\n",
        "binarizer = Binarizer(threshold=0.0).fit(X)\n",
        "binaryX = binarizer.transform(X)\n",
        "# summarize transformed data\n",
        "set_printoptions(precision=3)\n",
        "print(binaryX[0:5,:])"
      ],
      "metadata": {
        "colab": {
          "base_uri": "https://localhost:8080/"
        },
        "id": "1tgJ1vR0vZ0f",
        "outputId": "4865e1f8-f470-404c-a523-6b4de9d25976"
      },
      "execution_count": 16,
      "outputs": [
        {
          "output_type": "stream",
          "name": "stdout",
          "text": [
            "[[1. 1. 1. 1. 0. 1. 1. 1.]\n",
            " [1. 1. 1. 1. 0. 1. 1. 1.]\n",
            " [1. 1. 1. 0. 0. 1. 1. 1.]\n",
            " [1. 1. 1. 1. 1. 1. 1. 1.]\n",
            " [0. 1. 1. 1. 1. 1. 1. 1.]]\n"
          ]
        }
      ]
    }
  ]
}