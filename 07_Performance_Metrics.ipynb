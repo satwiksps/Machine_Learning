{
  "nbformat": 4,
  "nbformat_minor": 0,
  "metadata": {
    "colab": {
      "provenance": [],
      "authorship_tag": "ABX9TyMvOMbdoO/XC4veLrf43KWz",
      "include_colab_link": true
    },
    "kernelspec": {
      "name": "python3",
      "display_name": "Python 3"
    },
    "language_info": {
      "name": "python"
    }
  },
  "cells": [
    {
      "cell_type": "markdown",
      "metadata": {
        "id": "view-in-github",
        "colab_type": "text"
      },
      "source": [
        "<a href=\"https://colab.research.google.com/github/satwiksps/Machine_Learning/blob/main/7_Performance_Metrics.ipynb\" target=\"_parent\"><img src=\"https://colab.research.google.com/assets/colab-badge.svg\" alt=\"Open In Colab\"/></a>"
      ]
    },
    {
      "cell_type": "markdown",
      "source": [
        "#Pima-Indian-Diabetes Dataset"
      ],
      "metadata": {
        "id": "E18U1G9zD0-t"
      }
    },
    {
      "cell_type": "code",
      "execution_count": 16,
      "metadata": {
        "id": "6rOvLQNQngaM"
      },
      "outputs": [],
      "source": [
        "from pandas import read_csv\n",
        "url = 'https://raw.githubusercontent.com/erojaso/MLMasteryEndToEnd/master/data/pima-indians-diabetes.data.csv' #Load CSV using Pandas\n",
        "column_names = ['preg', 'plas', 'pres', 'skin', 'test', 'mass', 'pedi', 'age', 'class'] #Define column names\n",
        "data = read_csv(url, names=column_names) #Load CSV using Pandas\n",
        "array = data.values #Convert to NumPy array\n",
        "X1 = array[:,0:8] #Split into input column\n",
        "Y1 = array[:,8] #Split into output column\n"
      ]
    },
    {
      "cell_type": "code",
      "source": [
        "print(\"Shape of X1:\", X1.shape)\n",
        "print(\"Shape of Y1:\", Y1.shape)"
      ],
      "metadata": {
        "colab": {
          "base_uri": "https://localhost:8080/"
        },
        "id": "wdN7zGaGDIKj",
        "outputId": "9e2fba3a-dae6-48e9-baa5-25faf9ec836c"
      },
      "execution_count": 24,
      "outputs": [
        {
          "output_type": "stream",
          "name": "stdout",
          "text": [
            "Shape of X1: (768, 8)\n",
            "Shape of Y1: (768,)\n"
          ]
        }
      ]
    },
    {
      "cell_type": "markdown",
      "source": [
        "#Boston-House-Price Dataset."
      ],
      "metadata": {
        "id": "Z5dAUKqqD-Ym"
      }
    },
    {
      "cell_type": "code",
      "source": [
        "from pandas import read_csv\n",
        "url2 = 'https://raw.githubusercontent.com/erojaso/MLMasteryEndToEnd/master/data/housing.NAN.adjust.csv' #Load CSV using Pandas\n",
        "names = ['CRIM', 'ZN', 'INDUS', 'CHAS', 'NOX', 'RM', 'AGE', 'DIS', 'RAD', 'TAX', 'PTRATIO', 'B', 'LSTAT', 'MEDV'] #Define column names\n",
        "dataframe = read_csv(url2, names=names) #Load CSV using Pandas\n",
        "array = dataframe.values #Convert to NumPy array\n",
        "X2 = array[:,0:13] #Attributes (Split into input rows)\n",
        "Y2 = array[:,13] #Labels (Split into output column)"
      ],
      "metadata": {
        "id": "J31Zgo_1vzpk"
      },
      "execution_count": 25,
      "outputs": []
    },
    {
      "cell_type": "code",
      "source": [
        "print(\"Shape of X2:\", X2.shape)\n",
        "print(\"Shape of Y2:\", Y2.shape)"
      ],
      "metadata": {
        "colab": {
          "base_uri": "https://localhost:8080/"
        },
        "id": "pLaauVC_C2FS",
        "outputId": "fddcf3c9-790d-4f81-e86d-b3e8d236e708"
      },
      "execution_count": 26,
      "outputs": [
        {
          "output_type": "stream",
          "name": "stdout",
          "text": [
            "Shape of X2: (506, 13)\n",
            "Shape of Y2: (506,)\n"
          ]
        }
      ]
    },
    {
      "cell_type": "markdown",
      "source": [
        "#Classification Metrics"
      ],
      "metadata": {
        "id": "Nf407yjD-tBy"
      }
    },
    {
      "cell_type": "markdown",
      "source": [
        "**Classification Accuracy**"
      ],
      "metadata": {
        "id": "NXSR9Er9-y1j"
      }
    },
    {
      "cell_type": "code",
      "source": [
        "from sklearn.model_selection import KFold\n",
        "from sklearn.model_selection import cross_val_score\n",
        "from sklearn.linear_model import LogisticRegression\n",
        "kfold = KFold(n_splits=10)\n",
        "model = LogisticRegression(solver='liblinear')\n",
        "scoring = 'accuracy'\n",
        "results = cross_val_score(model, X1, Y1, cv=kfold, scoring=scoring)\n",
        "print(\"Accuracy: %.3f, Standard Deviation: (%.3f)\" % (results.mean()*100.0, results.std()*100.0))"
      ],
      "metadata": {
        "colab": {
          "base_uri": "https://localhost:8080/"
        },
        "id": "-gNDCT3V-i39",
        "outputId": "5995d57b-1160-4085-9e26-672c0fc998f6"
      },
      "execution_count": 6,
      "outputs": [
        {
          "output_type": "stream",
          "name": "stdout",
          "text": [
            "Accuracy: 76.951, Standard Deviation: (4.841)\n"
          ]
        }
      ]
    },
    {
      "cell_type": "markdown",
      "source": [
        "**Logarithmic Loss**"
      ],
      "metadata": {
        "id": "3M52Yqz3_ULy"
      }
    },
    {
      "cell_type": "code",
      "source": [
        "from sklearn.model_selection import KFold\n",
        "from sklearn.model_selection import cross_val_score\n",
        "from sklearn.linear_model import LogisticRegression\n",
        "kfold = KFold(n_splits=10)\n",
        "model = LogisticRegression(solver='liblinear')\n",
        "scoring = 'neg_log_loss'\n",
        "results = cross_val_score(model, X1, Y1, cv=kfold, scoring=scoring)\n",
        "print(\"Logloss: %.3f, Standard Deviation: (%.3f)\" % (results.mean(), results.std()))"
      ],
      "metadata": {
        "colab": {
          "base_uri": "https://localhost:8080/"
        },
        "id": "GThYGcZ2_X2f",
        "outputId": "80adabc9-606f-4a24-9f00-e6b007b7f119"
      },
      "execution_count": 7,
      "outputs": [
        {
          "output_type": "stream",
          "name": "stdout",
          "text": [
            "Logloss: -0.493, Standard Deviation: (0.047)\n"
          ]
        }
      ]
    },
    {
      "cell_type": "markdown",
      "source": [
        "**Area Under ROC Curve**"
      ],
      "metadata": {
        "id": "TUcdcpgZ_nDY"
      }
    },
    {
      "cell_type": "code",
      "source": [
        "from sklearn.model_selection import KFold\n",
        "from sklearn.model_selection import cross_val_score\n",
        "from sklearn.linear_model import LogisticRegression\n",
        "kfold = KFold(n_splits=10)\n",
        "model = LogisticRegression(solver='liblinear')\n",
        "scoring = 'roc_auc'\n",
        "results = cross_val_score(model, X1, Y1, cv=kfold, scoring=scoring)\n",
        "print(\"AUC: %.3f, Standard Deviation: (%.3f)\" % (results.mean(), results.std()))"
      ],
      "metadata": {
        "colab": {
          "base_uri": "https://localhost:8080/"
        },
        "id": "vF-34POj_q5G",
        "outputId": "52ad8024-8340-41db-8050-972bc1230d86"
      },
      "execution_count": 8,
      "outputs": [
        {
          "output_type": "stream",
          "name": "stdout",
          "text": [
            "AUC: 0.824, Standard Deviation: (0.041)\n"
          ]
        }
      ]
    },
    {
      "cell_type": "markdown",
      "source": [
        "**Confusion Matrix**"
      ],
      "metadata": {
        "id": "MKbuQnQZAJH8"
      }
    },
    {
      "cell_type": "code",
      "source": [
        "from sklearn.model_selection import train_test_split\n",
        "from sklearn.linear_model import LogisticRegression\n",
        "from sklearn.metrics import confusion_matrix\n",
        "seed = 7\n",
        "test_size = 0.33\n",
        "X_train, X_test, Y_train, Y_test = train_test_split(X1, Y1, test_size=test_size, random_state=seed)\n",
        "model = LogisticRegression(solver='liblinear')\n",
        "model.fit(X_train, Y_train)\n",
        "predicted = model.predict(X_test)\n",
        "matrix = confusion_matrix(Y_test, predicted)\n",
        "print(matrix)"
      ],
      "metadata": {
        "colab": {
          "base_uri": "https://localhost:8080/"
        },
        "id": "HOcWMwUHAOZn",
        "outputId": "be10a646-3a0f-4323-f361-fdc6ae8ab403"
      },
      "execution_count": 9,
      "outputs": [
        {
          "output_type": "stream",
          "name": "stdout",
          "text": [
            "[[141  21]\n",
            " [ 41  51]]\n"
          ]
        }
      ]
    },
    {
      "cell_type": "markdown",
      "source": [
        "**Classification Report**"
      ],
      "metadata": {
        "id": "ICZ7Vq6nAuwJ"
      }
    },
    {
      "cell_type": "code",
      "source": [
        "from sklearn.model_selection import train_test_split\n",
        "from sklearn.linear_model import LogisticRegression\n",
        "from sklearn.metrics import classification_report\n",
        "seed = 7\n",
        "test_size = 0.33\n",
        "X_train, X_test, Y_train, Y_test = train_test_split(X1, Y1, test_size=test_size, random_state=seed)\n",
        "model = LogisticRegression(solver='liblinear')\n",
        "model.fit(X_train, Y_train)\n",
        "predicted = model.predict(X_test)\n",
        "report = classification_report(Y_test, predicted)\n",
        "print(report)"
      ],
      "metadata": {
        "colab": {
          "base_uri": "https://localhost:8080/"
        },
        "id": "GSSCMbreA4k2",
        "outputId": "4bd74910-35b9-47d2-a933-6b4a9c4d7029"
      },
      "execution_count": 10,
      "outputs": [
        {
          "output_type": "stream",
          "name": "stdout",
          "text": [
            "              precision    recall  f1-score   support\n",
            "\n",
            "         0.0       0.77      0.87      0.82       162\n",
            "         1.0       0.71      0.55      0.62        92\n",
            "\n",
            "    accuracy                           0.76       254\n",
            "   macro avg       0.74      0.71      0.72       254\n",
            "weighted avg       0.75      0.76      0.75       254\n",
            "\n"
          ]
        }
      ]
    },
    {
      "cell_type": "markdown",
      "source": [],
      "metadata": {
        "id": "5QekX24UBDJS"
      }
    },
    {
      "cell_type": "markdown",
      "source": [
        "#Regression Metrics"
      ],
      "metadata": {
        "id": "V9SxBc6LCC5C"
      }
    },
    {
      "cell_type": "markdown",
      "source": [
        "**Mean Absolute Error**"
      ],
      "metadata": {
        "id": "l6wh3DKdCMKa"
      }
    },
    {
      "cell_type": "code",
      "source": [
        "from sklearn.model_selection import KFold\n",
        "from sklearn.model_selection import cross_val_score\n",
        "from sklearn.linear_model import LinearRegression\n",
        "kfold = KFold(n_splits=10)\n",
        "model = LinearRegression()\n",
        "scoring = 'neg_mean_absolute_error'\n",
        "results = cross_val_score(model, X2, Y2, cv=kfold, scoring=scoring)\n",
        "print(\"MAE: %.3f, Standard Deviation: (%.3f)\" % (results.mean(), results.std()))"
      ],
      "metadata": {
        "colab": {
          "base_uri": "https://localhost:8080/"
        },
        "id": "MRNxx4NSCM_H",
        "outputId": "e94cb801-323c-44e4-fbfb-db272d191ae1"
      },
      "execution_count": 27,
      "outputs": [
        {
          "output_type": "stream",
          "name": "stdout",
          "text": [
            "MAE: -4.034, Standard Deviation: (2.114)\n"
          ]
        }
      ]
    },
    {
      "cell_type": "markdown",
      "source": [
        "**Mean Squared Error**"
      ],
      "metadata": {
        "id": "8faIFVDbgCRO"
      }
    },
    {
      "cell_type": "code",
      "source": [
        "from sklearn.model_selection import KFold\n",
        "from sklearn.model_selection import cross_val_score\n",
        "from sklearn.linear_model import LinearRegression\n",
        "kfold = KFold(n_splits=10)\n",
        "model = LinearRegression()\n",
        "scoring = 'neg_mean_squared_error'\n",
        "results = cross_val_score(model, X2, Y2, cv=kfold, scoring=scoring)\n",
        "print(\"MSE: %.3f, Standard Deviation: (%.3f)\" % (results.mean(), results.std()))"
      ],
      "metadata": {
        "colab": {
          "base_uri": "https://localhost:8080/"
        },
        "id": "jzNnXQn1gDMv",
        "outputId": "3765a90c-a481-4f9e-dd53-2a80de633e71"
      },
      "execution_count": 28,
      "outputs": [
        {
          "output_type": "stream",
          "name": "stdout",
          "text": [
            "MSE: -35.099, Standard Deviation: (45.493)\n"
          ]
        }
      ]
    },
    {
      "cell_type": "markdown",
      "source": [
        "**R Squared Metric**"
      ],
      "metadata": {
        "id": "YKB6SKrngVG8"
      }
    },
    {
      "cell_type": "code",
      "source": [
        "from sklearn.model_selection import KFold\n",
        "from sklearn.model_selection import cross_val_score\n",
        "from sklearn.linear_model import LinearRegression\n",
        "kfold = KFold(n_splits=10)\n",
        "model = LinearRegression()\n",
        "scoring = 'r2'\n",
        "results = cross_val_score(model, X2, Y2, cv=kfold, scoring=scoring)\n",
        "print(\"R Squared: %.3f, Standard Deviation: (%.3f)\" % (results.mean(), results.std()))"
      ],
      "metadata": {
        "colab": {
          "base_uri": "https://localhost:8080/"
        },
        "id": "ooSuhi8HgVOA",
        "outputId": "8c187d72-1b67-4c2a-f0e3-7eb91ad711f9"
      },
      "execution_count": 31,
      "outputs": [
        {
          "output_type": "stream",
          "name": "stdout",
          "text": [
            "R Squared: 0.190, Standard Deviation: (0.594)\n"
          ]
        }
      ]
    }
  ]
}