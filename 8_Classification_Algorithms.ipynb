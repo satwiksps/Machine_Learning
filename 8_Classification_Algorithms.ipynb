{
  "nbformat": 4,
  "nbformat_minor": 0,
  "metadata": {
    "colab": {
      "provenance": [],
      "authorship_tag": "ABX9TyMJoF5iIZ1NHJ3RC2SrCbAC",
      "include_colab_link": true
    },
    "kernelspec": {
      "name": "python3",
      "display_name": "Python 3"
    },
    "language_info": {
      "name": "python"
    }
  },
  "cells": [
    {
      "cell_type": "markdown",
      "metadata": {
        "id": "view-in-github",
        "colab_type": "text"
      },
      "source": [
        "<a href=\"https://colab.research.google.com/github/satwiksps/Machine_Learning/blob/main/8_Classification_Algorithms.ipynb\" target=\"_parent\"><img src=\"https://colab.research.google.com/assets/colab-badge.svg\" alt=\"Open In Colab\"/></a>"
      ]
    },
    {
      "cell_type": "markdown",
      "source": [
        "# **Spot Checking (For Classification Algorithms)**\n",
        "Finding the best performing Algorithm"
      ],
      "metadata": {
        "id": "BZOicPqkhXyf"
      }
    },
    {
      "cell_type": "markdown",
      "source": [
        "### **Linear ML Algorithm**\n",
        "\n",
        "1) Logistic Regression.\n",
        "\n",
        "2) Linear Discriminant Analysis."
      ],
      "metadata": {
        "id": "nNa8w3ybhqtV"
      }
    },
    {
      "cell_type": "markdown",
      "source": [
        "### **Non-Linear ML Algorithm**\n",
        "\n",
        "1) K-Nearest Neighbors.\n",
        "\n",
        "2) Naive Bayes.\n",
        "\n",
        "3) Classification and Regression Trees.\n",
        "\n",
        "4) Support Vector Machines."
      ],
      "metadata": {
        "id": "A9s6I25Li8RK"
      }
    },
    {
      "cell_type": "code",
      "source": [
        "#Pima-Indian-Diabetes Dataset\n",
        "from pandas import read_csv\n",
        "url = 'https://raw.githubusercontent.com/erojaso/MLMasteryEndToEnd/master/data/pima-indians-diabetes.data.csv' #Load CSV using Pandas\n",
        "column_names = ['preg', 'plas', 'pres', 'skin', 'test', 'mass', 'pedi', 'age', 'class'] #Define column names\n",
        "data = read_csv(url, names=column_names) #Load CSV using Pandas\n",
        "array = data.values #Convert to NumPy array\n",
        "X1 = array[:,0:8] #Split into input column\n",
        "Y1 = array[:,8] #Split into output column\n",
        "\n",
        "print(\"Shape of X1:\", X1.shape)\n",
        "print(\"Shape of Y1:\", Y1.shape)"
      ],
      "metadata": {
        "colab": {
          "base_uri": "https://localhost:8080/"
        },
        "id": "1Bz9uiK9i80O",
        "outputId": "7070e65b-c0db-47b7-b66a-1f4da4d3e7ef"
      },
      "execution_count": 3,
      "outputs": [
        {
          "output_type": "stream",
          "name": "stdout",
          "text": [
            "Shape of X1: (768, 8)\n",
            "Shape of Y1: (768,)\n"
          ]
        }
      ]
    },
    {
      "cell_type": "code",
      "source": [
        "#Boston-House-Price Dataset\n",
        "from pandas import read_csv\n",
        "url2 = 'https://raw.githubusercontent.com/erojaso/MLMasteryEndToEnd/master/data/housing.NAN.adjust.csv' #Load CSV using Pandas\n",
        "names = ['CRIM', 'ZN', 'INDUS', 'CHAS', 'NOX', 'RM', 'AGE', 'DIS', 'RAD', 'TAX', 'PTRATIO', 'B', 'LSTAT', 'MEDV'] #Define column names\n",
        "dataframe = read_csv(url2, names=names) #Load CSV using Pandas\n",
        "array = dataframe.values #Convert to NumPy array\n",
        "X2 = array[:,0:13] #Attributes (Split into input rows)\n",
        "Y2 = array[:,13] #Labels (Split into output column)\n",
        "\n",
        "print(\"Shape of X2:\", X2.shape)\n",
        "print(\"Shape of Y2:\", Y2.shape)"
      ],
      "metadata": {
        "colab": {
          "base_uri": "https://localhost:8080/"
        },
        "id": "Ula0TzOMnE22",
        "outputId": "f53e6b29-0c8c-4aab-b13d-a3e9ca21e2f1"
      },
      "execution_count": 4,
      "outputs": [
        {
          "output_type": "stream",
          "name": "stdout",
          "text": [
            "Shape of X2: (506, 13)\n",
            "Shape of Y2: (506,)\n"
          ]
        }
      ]
    },
    {
      "cell_type": "markdown",
      "source": [
        "**Logistic Regression**"
      ],
      "metadata": {
        "id": "MWleLnc2jF6k"
      }
    },
    {
      "cell_type": "code",
      "source": [
        "from sklearn.model_selection import KFold\n",
        "from sklearn.model_selection import cross_val_score\n",
        "from sklearn.linear_model import LogisticRegression\n",
        "kfold = KFold(n_splits=10)\n",
        "model = LogisticRegression(solver='liblinear')\n",
        "results = cross_val_score(model, X1, Y1, cv=kfold)\n",
        "print(results.mean())"
      ],
      "metadata": {
        "colab": {
          "base_uri": "https://localhost:8080/"
        },
        "id": "nsd3q0yhnW5e",
        "outputId": "664254bb-bb56-4400-e861-de5796c9d6ab"
      },
      "execution_count": 7,
      "outputs": [
        {
          "output_type": "stream",
          "name": "stdout",
          "text": [
            "0.7695146958304853\n"
          ]
        }
      ]
    },
    {
      "cell_type": "markdown",
      "source": [
        "**Linear Discriminant Analysis**"
      ],
      "metadata": {
        "id": "lx8g9uODoD2-"
      }
    },
    {
      "cell_type": "code",
      "source": [
        "from sklearn.model_selection import KFold\n",
        "from sklearn.model_selection import cross_val_score\n",
        "from sklearn.discriminant_analysis import LinearDiscriminantAnalysis\n",
        "kfold = KFold(n_splits=10)\n",
        "model = LinearDiscriminantAnalysis()\n",
        "results = cross_val_score(model, X1, Y1, cv=kfold)\n",
        "print(results.mean())"
      ],
      "metadata": {
        "colab": {
          "base_uri": "https://localhost:8080/"
        },
        "id": "bqDHeiBWoEA6",
        "outputId": "d48138a2-7b12-483f-8fcf-411309155a02"
      },
      "execution_count": 8,
      "outputs": [
        {
          "output_type": "stream",
          "name": "stdout",
          "text": [
            "0.773462064251538\n"
          ]
        }
      ]
    },
    {
      "cell_type": "markdown",
      "source": [
        "**k-Nearest Neighbors**"
      ],
      "metadata": {
        "id": "8rW7QXLlojJx"
      }
    },
    {
      "cell_type": "code",
      "source": [
        "from sklearn.model_selection import KFold\n",
        "from sklearn.model_selection import cross_val_score\n",
        "from sklearn.neighbors import KNeighborsClassifier\n",
        "kfold = KFold(n_splits=10)\n",
        "model = KNeighborsClassifier()\n",
        "results = cross_val_score(model, X1, Y1, cv=kfold)\n",
        "print(results.mean())"
      ],
      "metadata": {
        "colab": {
          "base_uri": "https://localhost:8080/"
        },
        "id": "Kgc7ow_CooEJ",
        "outputId": "364725bb-7375-46b3-ff99-63e068b67c55"
      },
      "execution_count": 9,
      "outputs": [
        {
          "output_type": "stream",
          "name": "stdout",
          "text": [
            "0.7265550239234451\n"
          ]
        }
      ]
    },
    {
      "cell_type": "markdown",
      "source": [
        "**Naive-Bayes**"
      ],
      "metadata": {
        "id": "m7DO751iowyq"
      }
    },
    {
      "cell_type": "code",
      "source": [
        "from sklearn.model_selection import KFold\n",
        "from sklearn.model_selection import cross_val_score\n",
        "from sklearn.naive_bayes import GaussianNB\n",
        "kfold = KFold(n_splits=10)\n",
        "model = GaussianNB()\n",
        "results = cross_val_score(model, X1, Y1, cv=kfold)\n",
        "print(results.mean())"
      ],
      "metadata": {
        "colab": {
          "base_uri": "https://localhost:8080/"
        },
        "id": "uM8qCx2yozoT",
        "outputId": "014f2712-9c40-4cf6-9bec-ebb62bf0a3e7"
      },
      "execution_count": 10,
      "outputs": [
        {
          "output_type": "stream",
          "name": "stdout",
          "text": [
            "0.7551777170198223\n"
          ]
        }
      ]
    },
    {
      "cell_type": "markdown",
      "source": [
        "**Classification and Regression Trees**"
      ],
      "metadata": {
        "id": "3SQnVMgzpEuE"
      }
    },
    {
      "cell_type": "code",
      "source": [
        "from sklearn.model_selection import KFold\n",
        "from sklearn.model_selection import cross_val_score\n",
        "from sklearn.tree import DecisionTreeClassifier\n",
        "kfold = KFold(n_splits=10)\n",
        "model = DecisionTreeClassifier()\n",
        "results = cross_val_score(model, X1, Y1, cv=kfold)\n",
        "print(results.mean())"
      ],
      "metadata": {
        "colab": {
          "base_uri": "https://localhost:8080/"
        },
        "id": "-93OEGUzpLPZ",
        "outputId": "3a63f31f-221f-43a5-fc3a-dba1a492b84a"
      },
      "execution_count": 11,
      "outputs": [
        {
          "output_type": "stream",
          "name": "stdout",
          "text": [
            "0.688738892686261\n"
          ]
        }
      ]
    },
    {
      "cell_type": "markdown",
      "source": [
        "**Support Vector Machines**"
      ],
      "metadata": {
        "id": "uUCCa6o6pf3X"
      }
    },
    {
      "cell_type": "code",
      "source": [
        "from sklearn.model_selection import KFold\n",
        "from sklearn.model_selection import cross_val_score\n",
        "from sklearn.svm import SVC\n",
        "kfold = KFold(n_splits=10)\n",
        "model = SVC()\n",
        "results = cross_val_score(model, X1, Y1, cv=kfold)\n",
        "print(results.mean())"
      ],
      "metadata": {
        "colab": {
          "base_uri": "https://localhost:8080/"
        },
        "id": "SL_CbD8ZpQPx",
        "outputId": "0d1d03ed-b8cf-4b4b-bac5-f06653358c74"
      },
      "execution_count": 12,
      "outputs": [
        {
          "output_type": "stream",
          "name": "stdout",
          "text": [
            "0.7604237867395763\n"
          ]
        }
      ]
    }
  ]
}